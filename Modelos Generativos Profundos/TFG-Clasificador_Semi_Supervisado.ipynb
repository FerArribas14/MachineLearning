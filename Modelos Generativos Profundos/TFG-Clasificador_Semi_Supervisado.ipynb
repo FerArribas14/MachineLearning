{
 "cells": [
  {
   "cell_type": "markdown",
   "metadata": {},
   "source": [
    "                            Aprendizaje No-supervisado con Modelos Generativos Profundos\n",
    "\n",
    "                                            Fernando Arribas Jara\n",
    "\n",
    "                                        TUTOR: Daniel Hernández Lobato\n",
    "\n",
    "                                        UNIVERSIDAD AUTONOMA DE MADRID"
   ]
  },
  {
   "cell_type": "markdown",
   "metadata": {},
   "source": [
    "La idea es utilizar el variational autoencoder para obtener caracteristicas ocultas de las imagenes (Variables latentes) y utilizar estas variables como entrada en un clasificador lineal en este caso Softmax (regresión logística multinomial). Es decir  se trataría de un aprendizaje semi-supervisado para clasificar. Esta es la arquitectura: \n",
    "\n",
    "![title](./Autoencoder_clasificador.jpg)\n",
    "\n",
    "Para comprobar la precisión de esta clasificación, también voy a probar la precisión con el clasificador lineal regresión logística multinomial pero esta vez tendra como entrada las imagenes originales en lugar de las variables latentes.\n"
   ]
  },
  {
   "cell_type": "markdown",
   "metadata": {},
   "source": [
    "COMPARACIÓN "
   ]
  },
  {
   "cell_type": "code",
   "execution_count": 1,
   "metadata": {},
   "outputs": [
    {
     "name": "stdout",
     "output_type": "stream",
     "text": [
      "Extracting MNIST_data\\train-images-idx3-ubyte.gz\n",
      "Extracting MNIST_data\\train-labels-idx1-ubyte.gz\n",
      "Extracting MNIST_data\\t10k-images-idx3-ubyte.gz\n",
      "Extracting MNIST_data\\t10k-labels-idx1-ubyte.gz\n"
     ]
    }
   ],
   "source": [
    "#Imports\n",
    "import os\n",
    "os.environ['TF_CPP_MIN_LOG_LEVEL']='2'\n",
    "import tensorflow as tf\n",
    "import numpy as np\n",
    "import matplotlib.pyplot as plt\n",
    "%matplotlib inline\n",
    "from tensorflow.examples.tutorials.mnist import input_data\n",
    "mnist = input_data.read_data_sets(\"MNIST_data\", one_hot=True)"
   ]
  },
  {
   "cell_type": "markdown",
   "metadata": {},
   "source": [
    "Clasificador 1: Entrenado con variables latentes aprendidas con el variational autoencoder"
   ]
  },
  {
   "cell_type": "code",
   "execution_count": 2,
   "metadata": {},
   "outputs": [
    {
     "name": "stdout",
     "output_type": "stream",
     "text": [
      "Entrenando modelo...\n",
      "Epoca: 1 Cross Entropy= 0.397726\n",
      "Epoca: 2 Cross Entropy= 0.157320\n",
      "Epoca: 3 Cross Entropy= 0.106776\n",
      "Epoca: 4 Cross Entropy= 0.078851\n",
      "Epoca: 5 Cross Entropy= 0.059506\n",
      "Score\n",
      "0.9769\n"
     ]
    }
   ],
   "source": [
    "#Variables de Train\n",
    "num_epocas =5\n",
    "batch_size = 100\n",
    "learning_rate = 1e-1\n",
    "n_datos = mnist.train.num_examples\n",
    "num_batch = int(n_datos / batch_size)\n",
    "\n",
    "#Variables del dataset\n",
    "tam_imagen = 784 # Imagenes de 28x28 pixels\n",
    "tam_latente = 50\n",
    "tam_hidden_layer = 500\n",
    "\n",
    "input_encoder = tf.placeholder(tf.float32, shape=[None, tam_imagen]) #Entrada de datos, imagenes\n",
    "\n",
    "#Semilla aleatoria\n",
    "tf.set_random_seed(0)\n",
    "\n",
    "#ENCODER\n",
    "\n",
    "#Pesos y biases\n",
    "#Primera capa oculta\n",
    "W_encoder1 = tf.Variable(tf.random_normal([tam_imagen, tam_hidden_layer], stddev= tf.pow(float(tam_imagen), -0.5)))\n",
    "b_encoder1 = tf.Variable(tf.random_normal([tam_hidden_layer], stddev= tf.pow(float(tam_hidden_layer), -0.5)))\n",
    "\n",
    "#Segunda capa oculta\n",
    "W_encoder2 = tf.Variable(tf.random_normal([tam_hidden_layer, tam_hidden_layer], stddev= tf.pow(float(tam_hidden_layer), -0.5)))\n",
    "b_encoder2 = tf.Variable(tf.random_normal([tam_hidden_layer], stddev= tf.pow(float(tam_hidden_layer), -0.5)))\n",
    "\n",
    "W_z_var = tf.Variable(tf.random_normal([tam_hidden_layer,tam_latente], stddev=tf.pow(float(tam_hidden_layer), -0.5)))\n",
    "b_z_var = tf.Variable(tf.random_normal([tam_latente], stddev=tf.pow(float(tam_latente), -0.5)))\n",
    "\n",
    "W_z_mean = tf.Variable(tf.random_normal([tam_hidden_layer,tam_latente], stddev=tf.pow(float(tam_hidden_layer), -0.5)))\n",
    "b_z_mean = tf.Variable(tf.random_normal([tam_latente], stddev=tf.pow(float(tam_latente), -0.5)))\n",
    "\n",
    "#Model del Encoder\n",
    "encoder_capa1 = tf.matmul(input_encoder, W_encoder1) + b_encoder1\n",
    "encoder_capa1 = tf.nn.relu(encoder_capa1)\n",
    "encoder_capa2 = tf.matmul(encoder_capa1, W_encoder2) + b_encoder2\n",
    "encoder_capa2 = tf.nn.relu(encoder_capa2)\n",
    "#Mean\n",
    "z_mean = tf.matmul(encoder_capa2,W_z_mean)+b_z_mean\n",
    "\n",
    "\n",
    "W_clasificador1 = tf.Variable(tf.random_normal([tam_latente, 10], stddev=tf.pow(float(tam_latente), -0.5)))\n",
    "b_clasificador1= tf.Variable(tf.random_normal([10], stddev=tf.pow(float(tam_latente), -0.5)))\n",
    "y_clasificador1 = tf.nn.softmax(tf.matmul(z_mean, W_clasificador1) + b_clasificador1)\n",
    "\n",
    "y_clasificador1_labels = tf.placeholder(tf.float32, [None, 10])\n",
    "\n",
    "cross_entropy1 = tf.reduce_mean(-tf.reduce_sum(y_clasificador1_labels * tf.log(y_clasificador1), reduction_indices=[1]))\n",
    "train_step1 = tf.train.GradientDescentOptimizer(learning_rate).minimize(cross_entropy1)\n",
    "\n",
    "sess1 = tf.InteractiveSession()\n",
    "tf.global_variables_initializer().run()\n",
    "\n",
    "print (\"Entrenando modelo...\")\n",
    "for epoca in range(1, num_epocas+1):\n",
    "    average_coste = 0\n",
    "    for _ in range(num_batch):\n",
    "        batch_xs, batch_ys = mnist.train.next_batch(batch_size)\n",
    "        _, coste = sess1.run([train_step1, cross_entropy1], feed_dict={input_encoder: batch_xs, y_clasificador1_labels: batch_ys})\n",
    "        average_coste = (average_coste + coste)\n",
    "    print('Epoca: %d Cross Entropy= %f' % (epoca,average_coste/num_batch))\n",
    "\n",
    "#Test\n",
    "prediccion1 = tf.equal(tf.argmax(y_clasificador1, 1), tf.argmax(y_clasificador1_labels, 1))\n",
    "score1 = tf.reduce_mean(tf.cast(prediccion1, tf.float32))\n",
    "print (\"Score\")\n",
    "print(sess1.run(score1, feed_dict={input_encoder: mnist.test.images, y_clasificador1_labels: mnist.test.labels}))"
   ]
  },
  {
   "cell_type": "markdown",
   "metadata": {},
   "source": [
    "Clasificador 2: Entrenado con imagenes originales"
   ]
  },
  {
   "cell_type": "code",
   "execution_count": 3,
   "metadata": {},
   "outputs": [
    {
     "name": "stdout",
     "output_type": "stream",
     "text": [
      "Entrenando modelo...\n",
      "Epoca: 1 Cross Entropy= 0.611974\n",
      "Epoca: 2 Cross Entropy= 0.380107\n",
      "Epoca: 3 Cross Entropy= 0.346330\n",
      "Epoca: 4 Cross Entropy= 0.328845\n",
      "Epoca: 5 Cross Entropy= 0.318081\n",
      "Score\n",
      "0.9156\n"
     ]
    }
   ],
   "source": [
    "input_clasificador2 = tf.placeholder(tf.float32, shape=[None, tam_imagen]) #Entrada de datos, imagenes\n",
    "W_clasificador2 = tf.Variable(tf.random_normal([tam_imagen, 10], stddev=tf.pow(float(tam_latente), -0.5)))\n",
    "b_clasificador2 = tf.Variable(tf.random_normal([10], stddev=tf.pow(float(tam_latente), -0.5)))\n",
    "y_clasificador2 = tf.nn.softmax(tf.matmul(input_clasificador2, W_clasificador2) + b_clasificador2)\n",
    "\n",
    "y_clasificador2_labels = tf.placeholder(tf.float32, [None, 10])\n",
    "\n",
    "cross_entropy2 = tf.reduce_mean(-tf.reduce_sum(y_clasificador2_labels * tf.log(y_clasificador2), reduction_indices=[1]))\n",
    "train_step2 = tf.train.GradientDescentOptimizer(learning_rate).minimize(cross_entropy2)\n",
    "\n",
    "sess2 = tf.InteractiveSession()\n",
    "tf.global_variables_initializer().run()\n",
    "\n",
    "print (\"Entrenando modelo...\")\n",
    "for epoca in range(1, num_epocas+1):\n",
    "    average_coste = 0\n",
    "    for _ in range(num_batch):\n",
    "        batch_xs, batch_ys = mnist.train.next_batch(batch_size)\n",
    "        _, coste = sess2.run([train_step2, cross_entropy2], feed_dict={input_clasificador2: batch_xs, y_clasificador2_labels: batch_ys})\n",
    "        average_coste = (average_coste + coste)\n",
    "    print('Epoca: %d Cross Entropy= %f' % (epoca,average_coste/num_batch))\n",
    "    \n",
    "#Test\n",
    "prediccion2 = tf.equal(tf.argmax(y_clasificador2, 1), tf.argmax(y_clasificador2_labels, 1))\n",
    "score2 = tf.reduce_mean(tf.cast(prediccion2, tf.float32))\n",
    "print (\"Score\")\n",
    "print(sess2.run(score2, feed_dict={input_clasificador2: mnist.test.images,y_clasificador2_labels: mnist.test.labels}))"
   ]
  },
  {
   "cell_type": "markdown",
   "metadata": {},
   "source": [
    "Comparación de ambos modelos donde se puede ver la certeza con la que predicen"
   ]
  },
  {
   "cell_type": "code",
   "execution_count": 4,
   "metadata": {},
   "outputs": [
    {
     "data": {
      "application/vnd.jupyter.widget-view+json": {
       "model_id": "8103e48183654d5a8af38e6f8ef9887b",
       "version_major": 2,
       "version_minor": 0
      },
      "text/html": [
       "<p>Failed to display Jupyter Widget of type <code>interactive</code>.</p>\n",
       "<p>\n",
       "  If you're reading this message in the Jupyter Notebook or JupyterLab Notebook, it may mean\n",
       "  that the widgets JavaScript is still loading. If this message persists, it\n",
       "  likely means that the widgets JavaScript library is either not installed or\n",
       "  not enabled. See the <a href=\"https://ipywidgets.readthedocs.io/en/stable/user_install.html\">Jupyter\n",
       "  Widgets Documentation</a> for setup instructions.\n",
       "</p>\n",
       "<p>\n",
       "  If you're reading this message in another frontend (for example, a static\n",
       "  rendering on GitHub or <a href=\"https://nbviewer.jupyter.org/\">NBViewer</a>),\n",
       "  it may mean that your frontend doesn't currently support widgets.\n",
       "</p>\n"
      ],
      "text/plain": [
       "interactive(children=(IntSlider(value=4, description='Numero a clasificar', layout=Layout(width='600px'), max=9, style=SliderStyle(description_width='initial')), Output()), _dom_classes=('widget-interact',))"
      ]
     },
     "metadata": {},
     "output_type": "display_data"
    }
   ],
   "source": [
    "%matplotlib inline\n",
    "from ipywidgets import interactive, Layout\n",
    "\n",
    "input_image_test = mnist.test.images\n",
    "\n",
    "imagenes_ordenadas = np.zeros([10, 784])\n",
    "for i, imagen in enumerate(input_image_test):    \n",
    "    indice = np.where(mnist.test.labels[i]==1)[0][0]\n",
    "    if(imagenes_ordenadas[indice].all() == 0):\n",
    "        imagenes_ordenadas[indice] = imagen\n",
    "        \n",
    "\n",
    "\n",
    "def clasificador(numero):\n",
    "    plt.figure(figsize=(8, 10))\n",
    "    plt.subplot(131)\n",
    "    plt.imshow(imagenes_ordenadas[numero].reshape(28, 28), cmap=\"gray\")\n",
    "    clasificacion1 = sess1.run(tf.argmax(y_clasificador1, 1), feed_dict={input_encoder: [imagenes_ordenadas[numero]]})\n",
    "    certeza1 = sess1.run(y_clasificador1, feed_dict={input_encoder: [imagenes_ordenadas[numero]]})\n",
    "    plt.title(\"Prediccion: %d  Certeza: %f\" % (clasificacion1[0], np.amax(certeza1)) )\n",
    "    plt.xlabel('Train: Z''s AEVB')    \n",
    "    plt.subplot(133)\n",
    "    plt.imshow(imagenes_ordenadas[numero].reshape(28, 28), cmap=\"gray\")\n",
    "    clasificacion2 = sess2.run(tf.argmax(y_clasificador2, 1), feed_dict={input_clasificador2: [imagenes_ordenadas[numero]]})\n",
    "    certeza2 = sess2.run(y_clasificador2, feed_dict={input_clasificador2: [imagenes_ordenadas[numero]]})\n",
    "    plt.title(\"Prediccion: %d  Certeza: %f\" % (clasificacion2[0], np.amax(certeza2)) )\n",
    "    plt.xlabel('Train: Imagenes Originales')    \n",
    "    \n",
    "    \n",
    "\n",
    "plot = interactive(clasificador, numero=(0,9,1))\n",
    "output = plot.children[0]\n",
    "output.layout.width = '600px'\n",
    "output.description='Numero a clasificar'\n",
    "output.style = {'description_width': 'initial'}\n",
    "plot"
   ]
  },
  {
   "cell_type": "code",
   "execution_count": null,
   "metadata": {},
   "outputs": [],
   "source": []
  }
 ],
 "metadata": {
  "kernelspec": {
   "display_name": "Python 3",
   "language": "python",
   "name": "python3"
  },
  "language_info": {
   "codemirror_mode": {
    "name": "ipython",
    "version": 3
   },
   "file_extension": ".py",
   "mimetype": "text/x-python",
   "name": "python",
   "nbconvert_exporter": "python",
   "pygments_lexer": "ipython3",
   "version": "3.5.4"
  }
 },
 "nbformat": 4,
 "nbformat_minor": 2
}
